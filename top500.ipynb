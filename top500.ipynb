{
 "cells": [
  {
   "cell_type": "markdown",
   "metadata": {},
   "source": [
    "Taking the top 500 albums of all time as ranked by Rolling Stone and finding the mean value after performing sentiment analysis on their lyrics"
   ]
  },
  {
   "cell_type": "code",
   "execution_count": 1,
   "metadata": {},
   "outputs": [
    {
     "name": "stdout",
     "output_type": "stream",
     "text": [
      "Requirement already satisfied: lyricsgenius in /Users/dylanbudnick/opt/anaconda3/lib/python3.8/site-packages (3.0.1)\n",
      "Requirement already satisfied: requests>=2.20.0 in /Users/dylanbudnick/opt/anaconda3/lib/python3.8/site-packages (from lyricsgenius) (2.27.1)\n",
      "Requirement already satisfied: beautifulsoup4>=4.6.0 in /Users/dylanbudnick/opt/anaconda3/lib/python3.8/site-packages (from lyricsgenius) (4.9.3)\n",
      "Requirement already satisfied: soupsieve>1.2 in /Users/dylanbudnick/opt/anaconda3/lib/python3.8/site-packages (from beautifulsoup4>=4.6.0->lyricsgenius) (2.2.1)\n",
      "Requirement already satisfied: urllib3<1.27,>=1.21.1 in /Users/dylanbudnick/opt/anaconda3/lib/python3.8/site-packages (from requests>=2.20.0->lyricsgenius) (1.26.4)\n",
      "Requirement already satisfied: charset-normalizer~=2.0.0 in /Users/dylanbudnick/opt/anaconda3/lib/python3.8/site-packages (from requests>=2.20.0->lyricsgenius) (2.0.8)\n",
      "Requirement already satisfied: idna<4,>=2.5 in /Users/dylanbudnick/opt/anaconda3/lib/python3.8/site-packages (from requests>=2.20.0->lyricsgenius) (2.10)\n",
      "Requirement already satisfied: certifi>=2017.4.17 in /Users/dylanbudnick/opt/anaconda3/lib/python3.8/site-packages (from requests>=2.20.0->lyricsgenius) (2020.12.5)\n",
      "Requirement already satisfied: vaderSentiment in /Users/dylanbudnick/opt/anaconda3/lib/python3.8/site-packages (3.3.2)\n",
      "Requirement already satisfied: requests in /Users/dylanbudnick/opt/anaconda3/lib/python3.8/site-packages (from vaderSentiment) (2.27.1)\n",
      "Requirement already satisfied: certifi>=2017.4.17 in /Users/dylanbudnick/opt/anaconda3/lib/python3.8/site-packages (from requests->vaderSentiment) (2020.12.5)\n",
      "Requirement already satisfied: charset-normalizer~=2.0.0 in /Users/dylanbudnick/opt/anaconda3/lib/python3.8/site-packages (from requests->vaderSentiment) (2.0.8)\n",
      "Requirement already satisfied: urllib3<1.27,>=1.21.1 in /Users/dylanbudnick/opt/anaconda3/lib/python3.8/site-packages (from requests->vaderSentiment) (1.26.4)\n",
      "Requirement already satisfied: idna<4,>=2.5 in /Users/dylanbudnick/opt/anaconda3/lib/python3.8/site-packages (from requests->vaderSentiment) (2.10)\n",
      "Requirement already satisfied: nltk in /Users/dylanbudnick/opt/anaconda3/lib/python3.8/site-packages (3.6.1)\n",
      "Requirement already satisfied: click in /Users/dylanbudnick/opt/anaconda3/lib/python3.8/site-packages (from nltk) (7.1.2)\n",
      "Requirement already satisfied: regex in /Users/dylanbudnick/opt/anaconda3/lib/python3.8/site-packages (from nltk) (2021.4.4)\n",
      "Requirement already satisfied: joblib in /Users/dylanbudnick/opt/anaconda3/lib/python3.8/site-packages (from nltk) (1.0.1)\n",
      "Requirement already satisfied: tqdm in /Users/dylanbudnick/opt/anaconda3/lib/python3.8/site-packages (from nltk) (4.59.0)\n"
     ]
    }
   ],
   "source": [
    "!pip install lyricsgenius\n",
    "!pip install vaderSentiment\n",
    "!pip install nltk\n",
    "import nltk\n",
    "import json\n",
    "import requests\n",
    "nltk.download('vader_lexicon')\n",
    "nltk.download('punkt')\n",
    "nltk.download('stopwords')\n",
    "nltk.download('wordnet')\n",
    "import pandas as pd\n",
    "import matplotlib.pyplot as plt\n",
    "import seaborn as sns\n",
    "from wordcloud import WordCloud\n",
    "import matplotlib.pyplot as plt\n",
    "from vaderSentiment.vaderSentiment import SentimentIntensityAnalyzer\n",
    "from nltk.corpus import stopwords\n",
    "from nltk.stem import WordNetLemmatizer\n",
    "from nltk.tokenize import word_tokenize\n",
    "from nltk.tokenize import RegexpTokenizer\n",
    "from lyricsgenius import Genius\n",
    "from PIL import Image\n",
    "from wordcloud import WordCloud, STOPWORDS, ImageColorGenerator\n",
    "import numpy as np \n",
    "import requests\n",
    "from io import BytesIO \n",
    "import matplotlib.pyplot as plt\n",
    "from wordcloud import WordCloud\n",
    "import os\n",
    "from dotenv import load_dotenv"
   ]
  }
 ],
 "metadata": {
  "kernelspec": {
   "display_name": "Python 3.8.8 ('base')",
   "language": "python",
   "name": "python3"
  },
  "language_info": {
   "codemirror_mode": {
    "name": "ipython",
    "version": 3
   },
   "file_extension": ".py",
   "mimetype": "text/x-python",
   "name": "python",
   "nbconvert_exporter": "python",
   "pygments_lexer": "ipython3",
   "version": "3.8.8"
  },
  "orig_nbformat": 4,
  "vscode": {
   "interpreter": {
    "hash": "5d1e37ab42fdcd25737c9d7ec581bdd15084cf0e3ae43de527cc420fc4ac3388"
   }
  }
 },
 "nbformat": 4,
 "nbformat_minor": 2
}
